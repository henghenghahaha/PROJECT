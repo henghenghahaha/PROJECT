{
 "cells": [
  {
   "cell_type": "code",
   "execution_count": 80,
   "metadata": {
    "collapsed": true
   },
   "outputs": [],
   "source": [
    "import pandas as pd"
   ]
  },
  {
   "cell_type": "code",
   "execution_count": 81,
   "outputs": [
    {
     "data": {
      "text/plain": "   Unnamed: 0            名字*       性别  \\\n0         中文名         Name *   Gender   \n1         宋钧声  Junsheng Song     Male   \n2         NaN            NaN      NaN   \n3         NaN            NaN      NaN   \n4          学年             学期     课程编号   \n5           1           Fall  IDE 101   \n6           1           Fall  MAT 101   \n7           1           Fall  ENG 101   \n8           1           Fall  ART 101   \n9           1         Spring  IDE 102   \n10          1         Spring   PH 101   \n11          1         Spring  HIS 101   \n12          1         Spring  ART 102   \n13          2           Fall  IDE 201   \n14          2           Fall  PHY 102   \n15          2           Fall  COM 101   \n16          2           Fall  ART 201   \n17          2         Spring  IDE 202   \n18          2         Spring  ECO 101   \n19          2         Spring  HIS 102   \n20          2         Spring   AR 202   \n21          3           Fall  IDE 301   \n22          3           Fall  ENG 201   \n23          3           Fall  PHI 101   \n24          3           Fall  ART 301   \n25          3         Spring  IDE 302   \n26          3         Spring  MAT 201   \n27          3         Spring  BUS 201   \n28          3         Spring  ART 302   \n29          4           Fall   ID 401   \n30          4           Fall  IDE 410   \n31          4           Fall  SOC 101   \n32          4           Fall  ART 401   \n33          4         Spring  IDE 402   \n34          4         Spring  PSY 101   \n35          4         Spring   DR 310   \n36        NaN            NaN      NaN   \n37        NaN            NaN      NaN   \n\n                                              出生日期           国籍  \\\n0                                   Date of Birth   Nationality   \n1                                      08-MAY-1985      Chinese   \n2                                              NaN          NaN   \n3                                              NaN          NaN   \n4                                             课程名称           学分   \n5                Introduction to Industrial Design            3   \n6                                  College Algebra            3   \n7                            English Composition I            3   \n8                                        Drawing I            3   \n9                           Sketching and Ideation            3   \n10                                 General Physics            4   \n11                                 World History I            3   \n12                          2D Design Fundamentals            3   \n13                     Materials and Manufacturing            3   \n14                           Physics for Designers            4   \n15                                 Public Speaking            3   \n16                          3D Design Fundamentals            3   \n17               Design Thinking and User Research            3   \n18                                  Microeconomics            3   \n19                                World History II            3   \n20                       Color Theory and Practice            3   \n21                         Product Design Studio I            4   \n22                          English Composition II            3   \n23                          Introduction to Ethics            3   \n24                Drawing for Industrial Designers            3   \n25                        Design for Manufacturing            4   \n26                                      Calculus I            4   \n27                       Introduction to Marketing            3   \n28                   Typography and Graphic Design            3   \n29                        Product Design Studio II            4   \n30  Professional Practice for Industrial Designers            3   \n31                       Introduction to Sociology            3   \n32                   Advanced Rendering Techniques            3   \n33            Advanced Topics in Industrial Design            4   \n34                      Introduction to Psychology            3   \n35                      Capstone Project or Thesis            3   \n36                                             总学分          100   \n37                                            平均绩点        3.559   \n\n                护照号*                  学号*                 专业  \\\n0   ID/Passport NO *  Registration Number           Major(s)   \n1          EC1655061         197620220028  Industrial Design   \n2                NaN                  NaN                NaN   \n3                NaN                  NaN                NaN   \n4              Grade      质量分Honor Points                NaN   \n5                  A                   12                NaN   \n6                  B                    9                NaN   \n7                  B                    9                NaN   \n8                  B                    9                NaN   \n9                  A                   12                NaN   \n10                 B                   12                NaN   \n11                 A                   12                NaN   \n12                 A                   12                NaN   \n13                 B                    9                NaN   \n14                B+                 13.2                NaN   \n15                 A                   12                NaN   \n16                B+                  9.9                NaN   \n17                 A                   12                NaN   \n18                 A                   12                NaN   \n19                B+                  9.9                NaN   \n20                 A                   12                NaN   \n21                 A                   16                NaN   \n22                A+                   12                NaN   \n23                 B                    9                NaN   \n24                 B                    9                NaN   \n25                A-                 14.8                NaN   \n26                 A                   16                NaN   \n27                 B                    9                NaN   \n28                A+                   12                NaN   \n29                 A                   16                NaN   \n30                 B                    9                NaN   \n31                 B                    9                NaN   \n32                 A                   12                NaN   \n33                 B                   12                NaN   \n34                 A                   12                NaN   \n35                A-                 11.1                NaN   \n36               NaN                  NaN                NaN   \n37               NaN                  NaN                NaN   \n\n                      学位*                                     上学时间*  \\\n0       Degree(s) Awarded  Dates of Attendance & Date of Graduation   \n1   Bachelor of Fine Arts                    08/28/2018--06/15/2022   \n2                     NaN                                       NaN   \n3                     NaN                                       NaN   \n4                     NaN                                       NaN   \n5                     NaN                                       NaN   \n6                     NaN                                       NaN   \n7                     NaN                                       NaN   \n8                     NaN                                       NaN   \n9                     NaN                                       NaN   \n10                    NaN                                       NaN   \n11                    NaN                                       NaN   \n12                    NaN                                       NaN   \n13                    NaN                                       NaN   \n14                    NaN                                       NaN   \n15                    NaN                                       NaN   \n16                    NaN                                       NaN   \n17                    NaN                                       NaN   \n18                    NaN                                       NaN   \n19                    NaN                                       NaN   \n20                    NaN                                       NaN   \n21                    NaN                                       NaN   \n22                    NaN                                       NaN   \n23                    NaN                                       NaN   \n24                    NaN                                       NaN   \n25                    NaN                                       NaN   \n26                    NaN                                       NaN   \n27                    NaN                                       NaN   \n28                    NaN                                       NaN   \n29                    NaN                                       NaN   \n30                    NaN                                       NaN   \n31                    NaN                                       NaN   \n32                    NaN                                       NaN   \n33                    NaN                                       NaN   \n34                    NaN                                       NaN   \n35                    NaN                                       NaN   \n36                    NaN                                       NaN   \n37                    NaN                                       NaN   \n\n                                  成绩             学分  \n0   The Grade Point Average(The GPA)  Total Credits  \n1                               3.56            100  \n2                                NaN            NaN  \n3                                NaN            NaN  \n4                                NaN            NaN  \n5                                NaN            NaN  \n6                                NaN            NaN  \n7                                NaN            NaN  \n8                                NaN            NaN  \n9                                NaN            NaN  \n10                               NaN            NaN  \n11                               NaN            NaN  \n12                               NaN            NaN  \n13                               NaN            NaN  \n14                               NaN            NaN  \n15                               NaN            NaN  \n16                               NaN            NaN  \n17                               NaN            NaN  \n18                               NaN            NaN  \n19                               NaN            NaN  \n20                               NaN            NaN  \n21                               NaN            NaN  \n22                               NaN            NaN  \n23                               NaN            NaN  \n24                               NaN            NaN  \n25                               NaN            NaN  \n26                               NaN            NaN  \n27                               NaN            NaN  \n28                               NaN            NaN  \n29                               NaN            NaN  \n30                               NaN            NaN  \n31                               NaN            NaN  \n32                               NaN            NaN  \n33                               NaN            NaN  \n34                               NaN            NaN  \n35                               NaN            NaN  \n36                               NaN            NaN  \n37                               NaN            NaN  ",
      "text/html": "<div>\n<style scoped>\n    .dataframe tbody tr th:only-of-type {\n        vertical-align: middle;\n    }\n\n    .dataframe tbody tr th {\n        vertical-align: top;\n    }\n\n    .dataframe thead th {\n        text-align: right;\n    }\n</style>\n<table border=\"1\" class=\"dataframe\">\n  <thead>\n    <tr style=\"text-align: right;\">\n      <th></th>\n      <th>Unnamed: 0</th>\n      <th>名字*</th>\n      <th>性别</th>\n      <th>出生日期</th>\n      <th>国籍</th>\n      <th>护照号*</th>\n      <th>学号*</th>\n      <th>专业</th>\n      <th>学位*</th>\n      <th>上学时间*</th>\n      <th>成绩</th>\n      <th>学分</th>\n    </tr>\n  </thead>\n  <tbody>\n    <tr>\n      <th>0</th>\n      <td>中文名</td>\n      <td>Name *</td>\n      <td>Gender</td>\n      <td>Date of Birth</td>\n      <td>Nationality</td>\n      <td>ID/Passport NO *</td>\n      <td>Registration Number</td>\n      <td>Major(s)</td>\n      <td>Degree(s) Awarded</td>\n      <td>Dates of Attendance &amp; Date of Graduation</td>\n      <td>The Grade Point Average(The GPA)</td>\n      <td>Total Credits</td>\n    </tr>\n    <tr>\n      <th>1</th>\n      <td>宋钧声</td>\n      <td>Junsheng Song</td>\n      <td>Male</td>\n      <td>08-MAY-1985</td>\n      <td>Chinese</td>\n      <td>EC1655061</td>\n      <td>197620220028</td>\n      <td>Industrial Design</td>\n      <td>Bachelor of Fine Arts</td>\n      <td>08/28/2018--06/15/2022</td>\n      <td>3.56</td>\n      <td>100</td>\n    </tr>\n    <tr>\n      <th>2</th>\n      <td>NaN</td>\n      <td>NaN</td>\n      <td>NaN</td>\n      <td>NaN</td>\n      <td>NaN</td>\n      <td>NaN</td>\n      <td>NaN</td>\n      <td>NaN</td>\n      <td>NaN</td>\n      <td>NaN</td>\n      <td>NaN</td>\n      <td>NaN</td>\n    </tr>\n    <tr>\n      <th>3</th>\n      <td>NaN</td>\n      <td>NaN</td>\n      <td>NaN</td>\n      <td>NaN</td>\n      <td>NaN</td>\n      <td>NaN</td>\n      <td>NaN</td>\n      <td>NaN</td>\n      <td>NaN</td>\n      <td>NaN</td>\n      <td>NaN</td>\n      <td>NaN</td>\n    </tr>\n    <tr>\n      <th>4</th>\n      <td>学年</td>\n      <td>学期</td>\n      <td>课程编号</td>\n      <td>课程名称</td>\n      <td>学分</td>\n      <td>Grade</td>\n      <td>质量分Honor Points</td>\n      <td>NaN</td>\n      <td>NaN</td>\n      <td>NaN</td>\n      <td>NaN</td>\n      <td>NaN</td>\n    </tr>\n    <tr>\n      <th>5</th>\n      <td>1</td>\n      <td>Fall</td>\n      <td>IDE 101</td>\n      <td>Introduction to Industrial Design</td>\n      <td>3</td>\n      <td>A</td>\n      <td>12</td>\n      <td>NaN</td>\n      <td>NaN</td>\n      <td>NaN</td>\n      <td>NaN</td>\n      <td>NaN</td>\n    </tr>\n    <tr>\n      <th>6</th>\n      <td>1</td>\n      <td>Fall</td>\n      <td>MAT 101</td>\n      <td>College Algebra</td>\n      <td>3</td>\n      <td>B</td>\n      <td>9</td>\n      <td>NaN</td>\n      <td>NaN</td>\n      <td>NaN</td>\n      <td>NaN</td>\n      <td>NaN</td>\n    </tr>\n    <tr>\n      <th>7</th>\n      <td>1</td>\n      <td>Fall</td>\n      <td>ENG 101</td>\n      <td>English Composition I</td>\n      <td>3</td>\n      <td>B</td>\n      <td>9</td>\n      <td>NaN</td>\n      <td>NaN</td>\n      <td>NaN</td>\n      <td>NaN</td>\n      <td>NaN</td>\n    </tr>\n    <tr>\n      <th>8</th>\n      <td>1</td>\n      <td>Fall</td>\n      <td>ART 101</td>\n      <td>Drawing I</td>\n      <td>3</td>\n      <td>B</td>\n      <td>9</td>\n      <td>NaN</td>\n      <td>NaN</td>\n      <td>NaN</td>\n      <td>NaN</td>\n      <td>NaN</td>\n    </tr>\n    <tr>\n      <th>9</th>\n      <td>1</td>\n      <td>Spring</td>\n      <td>IDE 102</td>\n      <td>Sketching and Ideation</td>\n      <td>3</td>\n      <td>A</td>\n      <td>12</td>\n      <td>NaN</td>\n      <td>NaN</td>\n      <td>NaN</td>\n      <td>NaN</td>\n      <td>NaN</td>\n    </tr>\n    <tr>\n      <th>10</th>\n      <td>1</td>\n      <td>Spring</td>\n      <td>PH 101</td>\n      <td>General Physics</td>\n      <td>4</td>\n      <td>B</td>\n      <td>12</td>\n      <td>NaN</td>\n      <td>NaN</td>\n      <td>NaN</td>\n      <td>NaN</td>\n      <td>NaN</td>\n    </tr>\n    <tr>\n      <th>11</th>\n      <td>1</td>\n      <td>Spring</td>\n      <td>HIS 101</td>\n      <td>World History I</td>\n      <td>3</td>\n      <td>A</td>\n      <td>12</td>\n      <td>NaN</td>\n      <td>NaN</td>\n      <td>NaN</td>\n      <td>NaN</td>\n      <td>NaN</td>\n    </tr>\n    <tr>\n      <th>12</th>\n      <td>1</td>\n      <td>Spring</td>\n      <td>ART 102</td>\n      <td>2D Design Fundamentals</td>\n      <td>3</td>\n      <td>A</td>\n      <td>12</td>\n      <td>NaN</td>\n      <td>NaN</td>\n      <td>NaN</td>\n      <td>NaN</td>\n      <td>NaN</td>\n    </tr>\n    <tr>\n      <th>13</th>\n      <td>2</td>\n      <td>Fall</td>\n      <td>IDE 201</td>\n      <td>Materials and Manufacturing</td>\n      <td>3</td>\n      <td>B</td>\n      <td>9</td>\n      <td>NaN</td>\n      <td>NaN</td>\n      <td>NaN</td>\n      <td>NaN</td>\n      <td>NaN</td>\n    </tr>\n    <tr>\n      <th>14</th>\n      <td>2</td>\n      <td>Fall</td>\n      <td>PHY 102</td>\n      <td>Physics for Designers</td>\n      <td>4</td>\n      <td>B+</td>\n      <td>13.2</td>\n      <td>NaN</td>\n      <td>NaN</td>\n      <td>NaN</td>\n      <td>NaN</td>\n      <td>NaN</td>\n    </tr>\n    <tr>\n      <th>15</th>\n      <td>2</td>\n      <td>Fall</td>\n      <td>COM 101</td>\n      <td>Public Speaking</td>\n      <td>3</td>\n      <td>A</td>\n      <td>12</td>\n      <td>NaN</td>\n      <td>NaN</td>\n      <td>NaN</td>\n      <td>NaN</td>\n      <td>NaN</td>\n    </tr>\n    <tr>\n      <th>16</th>\n      <td>2</td>\n      <td>Fall</td>\n      <td>ART 201</td>\n      <td>3D Design Fundamentals</td>\n      <td>3</td>\n      <td>B+</td>\n      <td>9.9</td>\n      <td>NaN</td>\n      <td>NaN</td>\n      <td>NaN</td>\n      <td>NaN</td>\n      <td>NaN</td>\n    </tr>\n    <tr>\n      <th>17</th>\n      <td>2</td>\n      <td>Spring</td>\n      <td>IDE 202</td>\n      <td>Design Thinking and User Research</td>\n      <td>3</td>\n      <td>A</td>\n      <td>12</td>\n      <td>NaN</td>\n      <td>NaN</td>\n      <td>NaN</td>\n      <td>NaN</td>\n      <td>NaN</td>\n    </tr>\n    <tr>\n      <th>18</th>\n      <td>2</td>\n      <td>Spring</td>\n      <td>ECO 101</td>\n      <td>Microeconomics</td>\n      <td>3</td>\n      <td>A</td>\n      <td>12</td>\n      <td>NaN</td>\n      <td>NaN</td>\n      <td>NaN</td>\n      <td>NaN</td>\n      <td>NaN</td>\n    </tr>\n    <tr>\n      <th>19</th>\n      <td>2</td>\n      <td>Spring</td>\n      <td>HIS 102</td>\n      <td>World History II</td>\n      <td>3</td>\n      <td>B+</td>\n      <td>9.9</td>\n      <td>NaN</td>\n      <td>NaN</td>\n      <td>NaN</td>\n      <td>NaN</td>\n      <td>NaN</td>\n    </tr>\n    <tr>\n      <th>20</th>\n      <td>2</td>\n      <td>Spring</td>\n      <td>AR 202</td>\n      <td>Color Theory and Practice</td>\n      <td>3</td>\n      <td>A</td>\n      <td>12</td>\n      <td>NaN</td>\n      <td>NaN</td>\n      <td>NaN</td>\n      <td>NaN</td>\n      <td>NaN</td>\n    </tr>\n    <tr>\n      <th>21</th>\n      <td>3</td>\n      <td>Fall</td>\n      <td>IDE 301</td>\n      <td>Product Design Studio I</td>\n      <td>4</td>\n      <td>A</td>\n      <td>16</td>\n      <td>NaN</td>\n      <td>NaN</td>\n      <td>NaN</td>\n      <td>NaN</td>\n      <td>NaN</td>\n    </tr>\n    <tr>\n      <th>22</th>\n      <td>3</td>\n      <td>Fall</td>\n      <td>ENG 201</td>\n      <td>English Composition II</td>\n      <td>3</td>\n      <td>A+</td>\n      <td>12</td>\n      <td>NaN</td>\n      <td>NaN</td>\n      <td>NaN</td>\n      <td>NaN</td>\n      <td>NaN</td>\n    </tr>\n    <tr>\n      <th>23</th>\n      <td>3</td>\n      <td>Fall</td>\n      <td>PHI 101</td>\n      <td>Introduction to Ethics</td>\n      <td>3</td>\n      <td>B</td>\n      <td>9</td>\n      <td>NaN</td>\n      <td>NaN</td>\n      <td>NaN</td>\n      <td>NaN</td>\n      <td>NaN</td>\n    </tr>\n    <tr>\n      <th>24</th>\n      <td>3</td>\n      <td>Fall</td>\n      <td>ART 301</td>\n      <td>Drawing for Industrial Designers</td>\n      <td>3</td>\n      <td>B</td>\n      <td>9</td>\n      <td>NaN</td>\n      <td>NaN</td>\n      <td>NaN</td>\n      <td>NaN</td>\n      <td>NaN</td>\n    </tr>\n    <tr>\n      <th>25</th>\n      <td>3</td>\n      <td>Spring</td>\n      <td>IDE 302</td>\n      <td>Design for Manufacturing</td>\n      <td>4</td>\n      <td>A-</td>\n      <td>14.8</td>\n      <td>NaN</td>\n      <td>NaN</td>\n      <td>NaN</td>\n      <td>NaN</td>\n      <td>NaN</td>\n    </tr>\n    <tr>\n      <th>26</th>\n      <td>3</td>\n      <td>Spring</td>\n      <td>MAT 201</td>\n      <td>Calculus I</td>\n      <td>4</td>\n      <td>A</td>\n      <td>16</td>\n      <td>NaN</td>\n      <td>NaN</td>\n      <td>NaN</td>\n      <td>NaN</td>\n      <td>NaN</td>\n    </tr>\n    <tr>\n      <th>27</th>\n      <td>3</td>\n      <td>Spring</td>\n      <td>BUS 201</td>\n      <td>Introduction to Marketing</td>\n      <td>3</td>\n      <td>B</td>\n      <td>9</td>\n      <td>NaN</td>\n      <td>NaN</td>\n      <td>NaN</td>\n      <td>NaN</td>\n      <td>NaN</td>\n    </tr>\n    <tr>\n      <th>28</th>\n      <td>3</td>\n      <td>Spring</td>\n      <td>ART 302</td>\n      <td>Typography and Graphic Design</td>\n      <td>3</td>\n      <td>A+</td>\n      <td>12</td>\n      <td>NaN</td>\n      <td>NaN</td>\n      <td>NaN</td>\n      <td>NaN</td>\n      <td>NaN</td>\n    </tr>\n    <tr>\n      <th>29</th>\n      <td>4</td>\n      <td>Fall</td>\n      <td>ID 401</td>\n      <td>Product Design Studio II</td>\n      <td>4</td>\n      <td>A</td>\n      <td>16</td>\n      <td>NaN</td>\n      <td>NaN</td>\n      <td>NaN</td>\n      <td>NaN</td>\n      <td>NaN</td>\n    </tr>\n    <tr>\n      <th>30</th>\n      <td>4</td>\n      <td>Fall</td>\n      <td>IDE 410</td>\n      <td>Professional Practice for Industrial Designers</td>\n      <td>3</td>\n      <td>B</td>\n      <td>9</td>\n      <td>NaN</td>\n      <td>NaN</td>\n      <td>NaN</td>\n      <td>NaN</td>\n      <td>NaN</td>\n    </tr>\n    <tr>\n      <th>31</th>\n      <td>4</td>\n      <td>Fall</td>\n      <td>SOC 101</td>\n      <td>Introduction to Sociology</td>\n      <td>3</td>\n      <td>B</td>\n      <td>9</td>\n      <td>NaN</td>\n      <td>NaN</td>\n      <td>NaN</td>\n      <td>NaN</td>\n      <td>NaN</td>\n    </tr>\n    <tr>\n      <th>32</th>\n      <td>4</td>\n      <td>Fall</td>\n      <td>ART 401</td>\n      <td>Advanced Rendering Techniques</td>\n      <td>3</td>\n      <td>A</td>\n      <td>12</td>\n      <td>NaN</td>\n      <td>NaN</td>\n      <td>NaN</td>\n      <td>NaN</td>\n      <td>NaN</td>\n    </tr>\n    <tr>\n      <th>33</th>\n      <td>4</td>\n      <td>Spring</td>\n      <td>IDE 402</td>\n      <td>Advanced Topics in Industrial Design</td>\n      <td>4</td>\n      <td>B</td>\n      <td>12</td>\n      <td>NaN</td>\n      <td>NaN</td>\n      <td>NaN</td>\n      <td>NaN</td>\n      <td>NaN</td>\n    </tr>\n    <tr>\n      <th>34</th>\n      <td>4</td>\n      <td>Spring</td>\n      <td>PSY 101</td>\n      <td>Introduction to Psychology</td>\n      <td>3</td>\n      <td>A</td>\n      <td>12</td>\n      <td>NaN</td>\n      <td>NaN</td>\n      <td>NaN</td>\n      <td>NaN</td>\n      <td>NaN</td>\n    </tr>\n    <tr>\n      <th>35</th>\n      <td>4</td>\n      <td>Spring</td>\n      <td>DR 310</td>\n      <td>Capstone Project or Thesis</td>\n      <td>3</td>\n      <td>A-</td>\n      <td>11.1</td>\n      <td>NaN</td>\n      <td>NaN</td>\n      <td>NaN</td>\n      <td>NaN</td>\n      <td>NaN</td>\n    </tr>\n    <tr>\n      <th>36</th>\n      <td>NaN</td>\n      <td>NaN</td>\n      <td>NaN</td>\n      <td>总学分</td>\n      <td>100</td>\n      <td>NaN</td>\n      <td>NaN</td>\n      <td>NaN</td>\n      <td>NaN</td>\n      <td>NaN</td>\n      <td>NaN</td>\n      <td>NaN</td>\n    </tr>\n    <tr>\n      <th>37</th>\n      <td>NaN</td>\n      <td>NaN</td>\n      <td>NaN</td>\n      <td>平均绩点</td>\n      <td>3.559</td>\n      <td>NaN</td>\n      <td>NaN</td>\n      <td>NaN</td>\n      <td>NaN</td>\n      <td>NaN</td>\n      <td>NaN</td>\n      <td>NaN</td>\n    </tr>\n  </tbody>\n</table>\n</div>"
     },
     "execution_count": 81,
     "metadata": {},
     "output_type": "execute_result"
    }
   ],
   "source": [
    "execl = pd.read_excel('/Users/macbookpro/Desktop/副本工作簿1.xlsx',header=0)\n",
    "execl.head(50)"
   ],
   "metadata": {
    "collapsed": false
   }
  },
  {
   "cell_type": "code",
   "execution_count": 82,
   "outputs": [
    {
     "name": "stdout",
     "output_type": "stream",
     "text": [
      "Unnamed: 0                       宋钧声\n",
      "名字*                    Junsheng Song\n",
      "性别                              Male\n",
      "出生日期                     08-MAY-1985\n",
      "国籍                           Chinese\n",
      "护照号*                       EC1655061\n",
      "学号*                     197620220028\n",
      "专业                 Industrial Design\n",
      "学位*            Bachelor of Fine Arts\n",
      "上学时间*         08/28/2018--06/15/2022\n",
      "成绩                              3.56\n",
      "学分                               100\n",
      "Name: 1, dtype: object\n",
      "   Unnamed: 0     名字*       性别  \\\n",
      "5           1    Fall  IDE 101   \n",
      "6           1    Fall  MAT 101   \n",
      "7           1    Fall  ENG 101   \n",
      "8           1    Fall  ART 101   \n",
      "9           1  Spring  IDE 102   \n",
      "10          1  Spring   PH 101   \n",
      "11          1  Spring  HIS 101   \n",
      "12          1  Spring  ART 102   \n",
      "13          2    Fall  IDE 201   \n",
      "14          2    Fall  PHY 102   \n",
      "15          2    Fall  COM 101   \n",
      "16          2    Fall  ART 201   \n",
      "17          2  Spring  IDE 202   \n",
      "18          2  Spring  ECO 101   \n",
      "19          2  Spring  HIS 102   \n",
      "20          2  Spring   AR 202   \n",
      "21          3    Fall  IDE 301   \n",
      "22          3    Fall  ENG 201   \n",
      "23          3    Fall  PHI 101   \n",
      "24          3    Fall  ART 301   \n",
      "25          3  Spring  IDE 302   \n",
      "26          3  Spring  MAT 201   \n",
      "27          3  Spring  BUS 201   \n",
      "28          3  Spring  ART 302   \n",
      "29          4    Fall   ID 401   \n",
      "30          4    Fall  IDE 410   \n",
      "31          4    Fall  SOC 101   \n",
      "32          4    Fall  ART 401   \n",
      "33          4  Spring  IDE 402   \n",
      "34          4  Spring  PSY 101   \n",
      "35          4  Spring   DR 310   \n",
      "\n",
      "                                              出生日期 国籍 护照号*   学号*   专业  学位*  \\\n",
      "5                Introduction to Industrial Design  3    A    12  NaN  NaN   \n",
      "6                                  College Algebra  3    B     9  NaN  NaN   \n",
      "7                            English Composition I  3    B     9  NaN  NaN   \n",
      "8                                        Drawing I  3    B     9  NaN  NaN   \n",
      "9                           Sketching and Ideation  3    A    12  NaN  NaN   \n",
      "10                                 General Physics  4    B    12  NaN  NaN   \n",
      "11                                 World History I  3    A    12  NaN  NaN   \n",
      "12                          2D Design Fundamentals  3    A    12  NaN  NaN   \n",
      "13                     Materials and Manufacturing  3    B     9  NaN  NaN   \n",
      "14                           Physics for Designers  4   B+  13.2  NaN  NaN   \n",
      "15                                 Public Speaking  3    A    12  NaN  NaN   \n",
      "16                          3D Design Fundamentals  3   B+   9.9  NaN  NaN   \n",
      "17               Design Thinking and User Research  3    A    12  NaN  NaN   \n",
      "18                                  Microeconomics  3    A    12  NaN  NaN   \n",
      "19                                World History II  3   B+   9.9  NaN  NaN   \n",
      "20                       Color Theory and Practice  3    A    12  NaN  NaN   \n",
      "21                         Product Design Studio I  4    A    16  NaN  NaN   \n",
      "22                          English Composition II  3   A+    12  NaN  NaN   \n",
      "23                          Introduction to Ethics  3    B     9  NaN  NaN   \n",
      "24                Drawing for Industrial Designers  3    B     9  NaN  NaN   \n",
      "25                        Design for Manufacturing  4   A-  14.8  NaN  NaN   \n",
      "26                                      Calculus I  4    A    16  NaN  NaN   \n",
      "27                       Introduction to Marketing  3    B     9  NaN  NaN   \n",
      "28                   Typography and Graphic Design  3   A+    12  NaN  NaN   \n",
      "29                        Product Design Studio II  4    A    16  NaN  NaN   \n",
      "30  Professional Practice for Industrial Designers  3    B     9  NaN  NaN   \n",
      "31                       Introduction to Sociology  3    B     9  NaN  NaN   \n",
      "32                   Advanced Rendering Techniques  3    A    12  NaN  NaN   \n",
      "33            Advanced Topics in Industrial Design  4    B    12  NaN  NaN   \n",
      "34                      Introduction to Psychology  3    A    12  NaN  NaN   \n",
      "35                      Capstone Project or Thesis  3   A-  11.1  NaN  NaN   \n",
      "\n",
      "   上学时间*   成绩   学分  \n",
      "5    NaN  NaN  NaN  \n",
      "6    NaN  NaN  NaN  \n",
      "7    NaN  NaN  NaN  \n",
      "8    NaN  NaN  NaN  \n",
      "9    NaN  NaN  NaN  \n",
      "10   NaN  NaN  NaN  \n",
      "11   NaN  NaN  NaN  \n",
      "12   NaN  NaN  NaN  \n",
      "13   NaN  NaN  NaN  \n",
      "14   NaN  NaN  NaN  \n",
      "15   NaN  NaN  NaN  \n",
      "16   NaN  NaN  NaN  \n",
      "17   NaN  NaN  NaN  \n",
      "18   NaN  NaN  NaN  \n",
      "19   NaN  NaN  NaN  \n",
      "20   NaN  NaN  NaN  \n",
      "21   NaN  NaN  NaN  \n",
      "22   NaN  NaN  NaN  \n",
      "23   NaN  NaN  NaN  \n",
      "24   NaN  NaN  NaN  \n",
      "25   NaN  NaN  NaN  \n",
      "26   NaN  NaN  NaN  \n",
      "27   NaN  NaN  NaN  \n",
      "28   NaN  NaN  NaN  \n",
      "29   NaN  NaN  NaN  \n",
      "30   NaN  NaN  NaN  \n",
      "31   NaN  NaN  NaN  \n",
      "32   NaN  NaN  NaN  \n",
      "33   NaN  NaN  NaN  \n",
      "34   NaN  NaN  NaN  \n",
      "35   NaN  NaN  NaN  \n"
     ]
    }
   ],
   "source": [
    "basedata = execl.iloc[1]\n",
    "print(basedata)\n",
    "courseData = execl.iloc[5:-2]\n",
    "print(courseData)\n",
    "def yearEnter(datestr):\n",
    "    strlist = datestr.split('--')\n",
    "    dataStart = strlist[0].split('/')\n",
    "    return dataStart[2]\n",
    "YearEnter = yearEnter(basedata[9])"
   ],
   "metadata": {
    "collapsed": false
   }
  },
  {
   "cell_type": "code",
   "execution_count": 83,
   "outputs": [],
   "source": [
    "listCourse = []\n",
    "Yeardict = {'Academic_Year': '',\n",
    "         'addInputArr': [],\n",
    "         'key': '', 'labelPosition': 'right', 'prop': '', 'statement': 'This is a statement listing courses completed online or by distance study and courses completed by regular classroom attendance',\n",
    "         'value': ''}\n",
    "addinputarrdict = {'key': '', 'labelPosition': 'right', 'prop': '', 'value1': '', 'value2': '', 'value3': '', 'value4': '', 'value5': ''}"
   ],
   "metadata": {
    "collapsed": false
   }
  },
  {
   "cell_type": "code",
   "execution_count": 84,
   "outputs": [
    {
     "name": "stdout",
     "output_type": "stream",
     "text": [
      "[{'Academic_Year': '2018    Fall Semester', 'addInputArr': [{'key': '', 'labelPosition': 'right', 'prop': '', 'value1': 'IDE 101', 'value2': 'Introduction to Industrial Design', 'value3': '3', 'value4': 'A', 'value5': '12'}, {'key': '', 'labelPosition': 'right', 'prop': '', 'value1': 'MAT 101', 'value2': 'College Algebra', 'value3': '3', 'value4': 'B', 'value5': '9'}, {'key': '', 'labelPosition': 'right', 'prop': '', 'value1': 'ENG 101', 'value2': 'English Composition I', 'value3': '3', 'value4': 'B', 'value5': '9'}, {'key': '', 'labelPosition': 'right', 'prop': '', 'value1': 'ART 101', 'value2': 'Drawing I', 'value3': '3', 'value4': 'B', 'value5': '9'}], 'key': '', 'labelPosition': 'right', 'prop': '', 'statement': 'This is a statement listing courses completed online or by distance study and courses completed by regular classroom attendance', 'value': ''}, {'Academic_Year': '2018    Spring Semester', 'addInputArr': [{'key': '', 'labelPosition': 'right', 'prop': '', 'value1': 'IDE 102', 'value2': 'Sketching and Ideation', 'value3': '3', 'value4': 'A', 'value5': '12'}, {'key': '', 'labelPosition': 'right', 'prop': '', 'value1': 'PH 101', 'value2': 'General Physics', 'value3': '4', 'value4': 'B', 'value5': '12'}, {'key': '', 'labelPosition': 'right', 'prop': '', 'value1': 'HIS 101', 'value2': 'World History I', 'value3': '3', 'value4': 'A', 'value5': '12'}, {'key': '', 'labelPosition': 'right', 'prop': '', 'value1': 'ART 102', 'value2': '2D Design Fundamentals', 'value3': '3', 'value4': 'A', 'value5': '12'}], 'key': '', 'labelPosition': 'right', 'prop': '', 'statement': 'This is a statement listing courses completed online or by distance study and courses completed by regular classroom attendance', 'value': ''}, {'Academic_Year': '2019    Fall Semester', 'addInputArr': [{'key': '', 'labelPosition': 'right', 'prop': '', 'value1': 'IDE 201', 'value2': 'Materials and Manufacturing', 'value3': '3', 'value4': 'B', 'value5': '9'}, {'key': '', 'labelPosition': 'right', 'prop': '', 'value1': 'PHY 102', 'value2': 'Physics for Designers', 'value3': '4', 'value4': 'B+', 'value5': '13.2'}, {'key': '', 'labelPosition': 'right', 'prop': '', 'value1': 'COM 101', 'value2': 'Public Speaking', 'value3': '3', 'value4': 'A', 'value5': '12'}, {'key': '', 'labelPosition': 'right', 'prop': '', 'value1': 'ART 201', 'value2': '3D Design Fundamentals', 'value3': '3', 'value4': 'B+', 'value5': '9.9'}], 'key': '', 'labelPosition': 'right', 'prop': '', 'statement': 'This is a statement listing courses completed online or by distance study and courses completed by regular classroom attendance', 'value': ''}, {'Academic_Year': '2019    Spring Semester', 'addInputArr': [{'key': '', 'labelPosition': 'right', 'prop': '', 'value1': 'IDE 202', 'value2': 'Design Thinking and User Research', 'value3': '3', 'value4': 'A', 'value5': '12'}, {'key': '', 'labelPosition': 'right', 'prop': '', 'value1': 'ECO 101', 'value2': 'Microeconomics', 'value3': '3', 'value4': 'A', 'value5': '12'}, {'key': '', 'labelPosition': 'right', 'prop': '', 'value1': 'HIS 102', 'value2': 'World History II', 'value3': '3', 'value4': 'B+', 'value5': '9.9'}, {'key': '', 'labelPosition': 'right', 'prop': '', 'value1': 'AR 202', 'value2': 'Color Theory and Practice', 'value3': '3', 'value4': 'A', 'value5': '12'}], 'key': '', 'labelPosition': 'right', 'prop': '', 'statement': 'This is a statement listing courses completed online or by distance study and courses completed by regular classroom attendance', 'value': ''}, {'Academic_Year': '2020    Fall Semester', 'addInputArr': [{'key': '', 'labelPosition': 'right', 'prop': '', 'value1': 'IDE 301', 'value2': 'Product Design Studio I', 'value3': '4', 'value4': 'A', 'value5': '16'}, {'key': '', 'labelPosition': 'right', 'prop': '', 'value1': 'ENG 201', 'value2': 'English Composition II', 'value3': '3', 'value4': 'A+', 'value5': '12'}, {'key': '', 'labelPosition': 'right', 'prop': '', 'value1': 'PHI 101', 'value2': 'Introduction to Ethics', 'value3': '3', 'value4': 'B', 'value5': '9'}, {'key': '', 'labelPosition': 'right', 'prop': '', 'value1': 'ART 301', 'value2': 'Drawing for Industrial Designers', 'value3': '3', 'value4': 'B', 'value5': '9'}], 'key': '', 'labelPosition': 'right', 'prop': '', 'statement': 'This is a statement listing courses completed online or by distance study and courses completed by regular classroom attendance', 'value': ''}, {'Academic_Year': '2020    Spring Semester', 'addInputArr': [{'key': '', 'labelPosition': 'right', 'prop': '', 'value1': 'IDE 302', 'value2': 'Design for Manufacturing', 'value3': '4', 'value4': 'A-', 'value5': '14.8'}, {'key': '', 'labelPosition': 'right', 'prop': '', 'value1': 'MAT 201', 'value2': 'Calculus I', 'value3': '4', 'value4': 'A', 'value5': '16'}, {'key': '', 'labelPosition': 'right', 'prop': '', 'value1': 'BUS 201', 'value2': 'Introduction to Marketing', 'value3': '3', 'value4': 'B', 'value5': '9'}, {'key': '', 'labelPosition': 'right', 'prop': '', 'value1': 'ART 302', 'value2': 'Typography and Graphic Design', 'value3': '3', 'value4': 'A+', 'value5': '12'}], 'key': '', 'labelPosition': 'right', 'prop': '', 'statement': 'This is a statement listing courses completed online or by distance study and courses completed by regular classroom attendance', 'value': ''}, {'Academic_Year': '2021    Fall Semester', 'addInputArr': [{'key': '', 'labelPosition': 'right', 'prop': '', 'value1': 'ID 401', 'value2': 'Product Design Studio II', 'value3': '4', 'value4': 'A', 'value5': '16'}, {'key': '', 'labelPosition': 'right', 'prop': '', 'value1': 'IDE 410', 'value2': 'Professional Practice for Industrial Designers', 'value3': '3', 'value4': 'B', 'value5': '9'}, {'key': '', 'labelPosition': 'right', 'prop': '', 'value1': 'SOC 101', 'value2': 'Introduction to Sociology', 'value3': '3', 'value4': 'B', 'value5': '9'}, {'key': '', 'labelPosition': 'right', 'prop': '', 'value1': 'ART 401', 'value2': 'Advanced Rendering Techniques', 'value3': '3', 'value4': 'A', 'value5': '12'}], 'key': '', 'labelPosition': 'right', 'prop': '', 'statement': 'This is a statement listing courses completed online or by distance study and courses completed by regular classroom attendance', 'value': ''}]\n"
     ]
    }
   ],
   "source": [
    "Yearlist = []\n",
    "for index,row in courseData.iterrows():\n",
    "    addinputarrdict = {'key': '', 'labelPosition': 'right', 'prop': '', 'value1': str(row[2]), 'value2': str(row[3]), 'value3': str(row[4]), 'value4': str(row[5]), 'value5': str(row[6])}\n",
    "    Yearacademic = str(int(row[0])-1+int(YearEnter)) + str('    ') + row[1] + str(' ') + 'Semester'\n",
    "    if len(Yearlist) == 0 or Yearlist[-1] != Yearacademic:\n",
    "        if len(Yeardict.get('addInputArr')) > 0:\n",
    "            listCourse.append(Yeardict)\n",
    "            # print(listCourse)\n",
    "            # print('----------------------------------------------------')\n",
    "            Yearlist.append(Yearacademic)\n",
    "        Yeardict = {'Academic_Year': '',\n",
    "         'addInputArr': [],\n",
    "         'key': '', 'labelPosition': 'right', 'prop': '', 'statement': 'This is a statement listing courses completed online or by distance study and courses completed by regular classroom attendance',\n",
    "         'value': ''}\n",
    "        Yearlist.append(Yearacademic)\n",
    "        Yeardict['Academic_Year'] = Yearacademic\n",
    "        Yeardict.get('addInputArr').append(addinputarrdict)\n",
    "    elif Yearlist[-1] == Yearacademic:\n",
    "        Yeardict.get('addInputArr').append(addinputarrdict)\n",
    "    # print(Yeardict)\n",
    "print(listCourse)"
   ],
   "metadata": {
    "collapsed": false
   }
  },
  {
   "cell_type": "code",
   "execution_count": 85,
   "outputs": [],
   "source": [
    "def dateconvert1(datestr):\n",
    "    dateDict = {\n",
    "        'JAN':'01',\n",
    "        'FEB':'02',\n",
    "        'MAR':'03',\n",
    "        'APR':'04',\n",
    "        'MAY':'05',\n",
    "        'JUN':'06',\n",
    "        'JUL':'07',\n",
    "        'AUG':'08',\n",
    "        'SEP':'09',\n",
    "        'OBT':'10',\n",
    "        'NOV':'11',\n",
    "        'DEC':'12'\n",
    "    }\n",
    "    strlist = datestr.split('-')\n",
    "    return strlist[2]+'-'+dateDict.get(strlist[1])+'-'+strlist[0]"
   ],
   "metadata": {
    "collapsed": false
   }
  },
  {
   "cell_type": "code",
   "execution_count": 86,
   "outputs": [],
   "source": [
    "def dateconvert2(datestr):\n",
    "    strlist = datestr.split('--')\n",
    "    dataStart = strlist[0].split('/')\n",
    "    dataEnd = strlist[1].split('/')\n",
    "    dataStart = dataStart[2] + '-' + dataStart[0] + '-' + dataStart[1]\n",
    "    dataEnd = dataEnd[2] + '-' + dataEnd[0] + '-' + dataEnd[1]\n",
    "    return dataStart,dataEnd"
   ],
   "metadata": {
    "collapsed": false
   }
  },
  {
   "cell_type": "code",
   "execution_count": 87,
   "outputs": [],
   "source": [
    "dateStart,dateEnd = dateconvert2(basedata[9])"
   ],
   "metadata": {
    "collapsed": false
   }
  },
  {
   "cell_type": "code",
   "execution_count": 88,
   "outputs": [],
   "source": [
    "imgStr = 'data:image/webp;base64,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'"
   ],
   "metadata": {
    "collapsed": false
   }
  },
  {
   "cell_type": "code",
   "execution_count": 89,
   "outputs": [
    {
     "data": {
      "text/plain": "{'name': 'Junsheng Song',\n 'passport': 'EC1655061',\n 'gender': 'Male',\n 'nationality': 'Chinese',\n 'DateOfBirth': '1985-05-08',\n 'Registration_Number': '197620220028',\n 'Degree_awarded': 'Bachelor of Fine Arts',\n 'Major': 'Industrial Design',\n 'GpA': '3.56',\n 'DateOfAttendence': '2018-08-28',\n 'DateOfGraduation': '2022-06-15',\n 'img': 'data:image/webp;base64,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',\n 'course': [{'Academic_Year': '2018    Fall Semester',\n   'addInputArr': [{'key': '',\n     'labelPosition': 'right',\n     'prop': '',\n     'value1': 'IDE 101',\n     'value2': 'Introduction to Industrial Design',\n     'value3': '3',\n     'value4': 'A',\n     'value5': '12'},\n    {'key': '',\n     'labelPosition': 'right',\n     'prop': '',\n     'value1': 'MAT 101',\n     'value2': 'College Algebra',\n     'value3': '3',\n     'value4': 'B',\n     'value5': '9'},\n    {'key': '',\n     'labelPosition': 'right',\n     'prop': '',\n     'value1': 'ENG 101',\n     'value2': 'English Composition I',\n     'value3': '3',\n     'value4': 'B',\n     'value5': '9'},\n    {'key': '',\n     'labelPosition': 'right',\n     'prop': '',\n     'value1': 'ART 101',\n     'value2': 'Drawing I',\n     'value3': '3',\n     'value4': 'B',\n     'value5': '9'}],\n   'key': '',\n   'labelPosition': 'right',\n   'prop': '',\n   'statement': 'This is a statement listing courses completed online or by distance study and courses completed by regular classroom attendance',\n   'value': ''},\n  {'Academic_Year': '2018    Spring Semester',\n   'addInputArr': [{'key': '',\n     'labelPosition': 'right',\n     'prop': '',\n     'value1': 'IDE 102',\n     'value2': 'Sketching and Ideation',\n     'value3': '3',\n     'value4': 'A',\n     'value5': '12'},\n    {'key': '',\n     'labelPosition': 'right',\n     'prop': '',\n     'value1': 'PH 101',\n     'value2': 'General Physics',\n     'value3': '4',\n     'value4': 'B',\n     'value5': '12'},\n    {'key': '',\n     'labelPosition': 'right',\n     'prop': '',\n     'value1': 'HIS 101',\n     'value2': 'World History I',\n     'value3': '3',\n     'value4': 'A',\n     'value5': '12'},\n    {'key': '',\n     'labelPosition': 'right',\n     'prop': '',\n     'value1': 'ART 102',\n     'value2': '2D Design Fundamentals',\n     'value3': '3',\n     'value4': 'A',\n     'value5': '12'}],\n   'key': '',\n   'labelPosition': 'right',\n   'prop': '',\n   'statement': 'This is a statement listing courses completed online or by distance study and courses completed by regular classroom attendance',\n   'value': ''},\n  {'Academic_Year': '2019    Fall Semester',\n   'addInputArr': [{'key': '',\n     'labelPosition': 'right',\n     'prop': '',\n     'value1': 'IDE 201',\n     'value2': 'Materials and Manufacturing',\n     'value3': '3',\n     'value4': 'B',\n     'value5': '9'},\n    {'key': '',\n     'labelPosition': 'right',\n     'prop': '',\n     'value1': 'PHY 102',\n     'value2': 'Physics for Designers',\n     'value3': '4',\n     'value4': 'B+',\n     'value5': '13.2'},\n    {'key': '',\n     'labelPosition': 'right',\n     'prop': '',\n     'value1': 'COM 101',\n     'value2': 'Public Speaking',\n     'value3': '3',\n     'value4': 'A',\n     'value5': '12'},\n    {'key': '',\n     'labelPosition': 'right',\n     'prop': '',\n     'value1': 'ART 201',\n     'value2': '3D Design Fundamentals',\n     'value3': '3',\n     'value4': 'B+',\n     'value5': '9.9'}],\n   'key': '',\n   'labelPosition': 'right',\n   'prop': '',\n   'statement': 'This is a statement listing courses completed online or by distance study and courses completed by regular classroom attendance',\n   'value': ''},\n  {'Academic_Year': '2019    Spring Semester',\n   'addInputArr': [{'key': '',\n     'labelPosition': 'right',\n     'prop': '',\n     'value1': 'IDE 202',\n     'value2': 'Design Thinking and User Research',\n     'value3': '3',\n     'value4': 'A',\n     'value5': '12'},\n    {'key': '',\n     'labelPosition': 'right',\n     'prop': '',\n     'value1': 'ECO 101',\n     'value2': 'Microeconomics',\n     'value3': '3',\n     'value4': 'A',\n     'value5': '12'},\n    {'key': '',\n     'labelPosition': 'right',\n     'prop': '',\n     'value1': 'HIS 102',\n     'value2': 'World History II',\n     'value3': '3',\n     'value4': 'B+',\n     'value5': '9.9'},\n    {'key': '',\n     'labelPosition': 'right',\n     'prop': '',\n     'value1': 'AR 202',\n     'value2': 'Color Theory and Practice',\n     'value3': '3',\n     'value4': 'A',\n     'value5': '12'}],\n   'key': '',\n   'labelPosition': 'right',\n   'prop': '',\n   'statement': 'This is a statement listing courses completed online or by distance study and courses completed by regular classroom attendance',\n   'value': ''},\n  {'Academic_Year': '2020    Fall Semester',\n   'addInputArr': [{'key': '',\n     'labelPosition': 'right',\n     'prop': '',\n     'value1': 'IDE 301',\n     'value2': 'Product Design Studio I',\n     'value3': '4',\n     'value4': 'A',\n     'value5': '16'},\n    {'key': '',\n     'labelPosition': 'right',\n     'prop': '',\n     'value1': 'ENG 201',\n     'value2': 'English Composition II',\n     'value3': '3',\n     'value4': 'A+',\n     'value5': '12'},\n    {'key': '',\n     'labelPosition': 'right',\n     'prop': '',\n     'value1': 'PHI 101',\n     'value2': 'Introduction to Ethics',\n     'value3': '3',\n     'value4': 'B',\n     'value5': '9'},\n    {'key': '',\n     'labelPosition': 'right',\n     'prop': '',\n     'value1': 'ART 301',\n     'value2': 'Drawing for Industrial Designers',\n     'value3': '3',\n     'value4': 'B',\n     'value5': '9'}],\n   'key': '',\n   'labelPosition': 'right',\n   'prop': '',\n   'statement': 'This is a statement listing courses completed online or by distance study and courses completed by regular classroom attendance',\n   'value': ''},\n  {'Academic_Year': '2020    Spring Semester',\n   'addInputArr': [{'key': '',\n     'labelPosition': 'right',\n     'prop': '',\n     'value1': 'IDE 302',\n     'value2': 'Design for Manufacturing',\n     'value3': '4',\n     'value4': 'A-',\n     'value5': '14.8'},\n    {'key': '',\n     'labelPosition': 'right',\n     'prop': '',\n     'value1': 'MAT 201',\n     'value2': 'Calculus I',\n     'value3': '4',\n     'value4': 'A',\n     'value5': '16'},\n    {'key': '',\n     'labelPosition': 'right',\n     'prop': '',\n     'value1': 'BUS 201',\n     'value2': 'Introduction to Marketing',\n     'value3': '3',\n     'value4': 'B',\n     'value5': '9'},\n    {'key': '',\n     'labelPosition': 'right',\n     'prop': '',\n     'value1': 'ART 302',\n     'value2': 'Typography and Graphic Design',\n     'value3': '3',\n     'value4': 'A+',\n     'value5': '12'}],\n   'key': '',\n   'labelPosition': 'right',\n   'prop': '',\n   'statement': 'This is a statement listing courses completed online or by distance study and courses completed by regular classroom attendance',\n   'value': ''},\n  {'Academic_Year': '2021    Fall Semester',\n   'addInputArr': [{'key': '',\n     'labelPosition': 'right',\n     'prop': '',\n     'value1': 'ID 401',\n     'value2': 'Product Design Studio II',\n     'value3': '4',\n     'value4': 'A',\n     'value5': '16'},\n    {'key': '',\n     'labelPosition': 'right',\n     'prop': '',\n     'value1': 'IDE 410',\n     'value2': 'Professional Practice for Industrial Designers',\n     'value3': '3',\n     'value4': 'B',\n     'value5': '9'},\n    {'key': '',\n     'labelPosition': 'right',\n     'prop': '',\n     'value1': 'SOC 101',\n     'value2': 'Introduction to Sociology',\n     'value3': '3',\n     'value4': 'B',\n     'value5': '9'},\n    {'key': '',\n     'labelPosition': 'right',\n     'prop': '',\n     'value1': 'ART 401',\n     'value2': 'Advanced Rendering Techniques',\n     'value3': '3',\n     'value4': 'A',\n     'value5': '12'}],\n   'key': '',\n   'labelPosition': 'right',\n   'prop': '',\n   'statement': 'This is a statement listing courses completed online or by distance study and courses completed by regular classroom attendance',\n   'value': ''}],\n 'totalCre': '100'}"
     },
     "execution_count": 89,
     "metadata": {},
     "output_type": "execute_result"
    }
   ],
   "source": [
    "dict = {'name': basedata[1], 'passport': str(basedata[5]), 'gender': basedata[2], 'nationality': basedata[4], 'DateOfBirth': dateconvert1(basedata[3]),\n",
    "        'Registration_Number': str(basedata[6]), 'Degree_awarded': basedata[8], 'Major': basedata[7], 'GpA': str(basedata[10]),\n",
    "        'DateOfAttendence': dateStart, 'DateOfGraduation': dateEnd,\n",
    "        'img': imgStr,\n",
    "        'course': listCourse,\n",
    "        'totalCre': str(basedata[11])}\n"
   ],
   "metadata": {
    "collapsed": false
   }
  },
  {
   "cell_type": "code",
   "execution_count": 89,
   "outputs": [],
   "source": [],
   "metadata": {
    "collapsed": false
   }
  }
 ],
 "metadata": {
  "kernelspec": {
   "display_name": "Python 3",
   "language": "python",
   "name": "python3"
  },
  "language_info": {
   "codemirror_mode": {
    "name": "ipython",
    "version": 2
   },
   "file_extension": ".py",
   "mimetype": "text/x-python",
   "name": "python",
   "nbconvert_exporter": "python",
   "pygments_lexer": "ipython2",
   "version": "2.7.6"
  }
 },
 "nbformat": 4,
 "nbformat_minor": 0
}
