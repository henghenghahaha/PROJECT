{
 "cells": [
  {
   "cell_type": "code",
   "execution_count": 15,
   "metadata": {
    "collapsed": true
   },
   "outputs": [],
   "source": [
    "import pandas as pd"
   ]
  },
  {
   "cell_type": "code",
   "execution_count": 16,
   "outputs": [
    {
     "data": {
      "text/plain": "   Unnamed: 0        名字*       性别                                      出生日期  \\\n0         中文名     Name *   Gender                            Date of Birth    \n1         许瀚文  Hanwen Xu   Female                               05-OCT-1998   \n2         NaN        NaN      NaN                                       NaN   \n3         NaN        NaN      NaN                                       NaN   \n4          学年         学期     课程编号                                      课程名称   \n5           1       Fall   CA 201                     Computer Architecture   \n6           1       Fall  AOS 202                Advanced Operating Systems   \n7           1       Fall  ACN 202                Advanced Computer Networks   \n8           1       Fall  DVL 126                       Digital VLSI Design   \n9           2     Spring  ADS 204        Advanced Digital Signal Processing   \n10          2     Spring  ACE 118   Advanced Topics in Computer Engineering   \n11          2     Spring  AAD 212   Advanced Algorithms and Data Structures   \n12          2     Spring  ADB 254                 Advanced Database Systems   \n13          2       Fall  ACA 251  Advanced Topics in Computer Architecture   \n14          2       Fall  ACN 212      Advanced Topics in Computer Networks   \n15          2       Fall  AVL 206            Advanced Topics in VLSI Design   \n16          2       Fall  ACS 105                Advanced Computer Security   \n17          3     Spring  ACG 301                Advanced Computer Graphics   \n18          3     Spring  AES 301       Advanced Topics in Embedded Systems   \n19          3     Spring  AAI 263          Advanced Artificial Intelligence   \n20          3     Spring  ADS 302              Advanced Distributed Systems   \n21          3     Spring   DR 310                Capstone Project or Thesis   \n22        NaN        NaN      NaN                                       总学分   \n23        NaN        NaN      NaN                                      平均绩点   \n\n             国籍                护照号*                  学号*  \\\n0   Nationality    ID/Passport NO *  Registration Number   \n1       Chinese  21040219981005054X         197620240011   \n2           NaN                 NaN                  NaN   \n3           NaN                 NaN                  NaN   \n4            学分               Grade      质量分Honor Points   \n5             3                   B                    9   \n6             3                   B                    9   \n7             3                   A                   12   \n8             3                  B+                  9.9   \n9             3                  B-                  8.1   \n10            3                   A                   12   \n11            3                  A-                 11.1   \n12            3                   B                    9   \n13            3                   A                   12   \n14            3                  B-                  8.1   \n15            3                  A-                 11.1   \n16            3                   A                   12   \n17            3                  B+                  9.9   \n18            3                   B                    9   \n19            3                   A                   12   \n20            3                   B                    9   \n21            4                   A                   16   \n22           52                 NaN                  NaN   \n23     3.446154                 NaN                  NaN   \n\n                      专业                                        学位*  \\\n0               Major(s)                          Degree(s) Awarded   \n1   Computer Engineering  Master of Science in Computer Engineering   \n2                    NaN                                        NaN   \n3                    NaN                                        NaN   \n4                    NaN                                        NaN   \n5                    NaN                                        NaN   \n6                    NaN                                        NaN   \n7                    NaN                                        NaN   \n8                    NaN                                        NaN   \n9                    NaN                                        NaN   \n10                   NaN                                        NaN   \n11                   NaN                                        NaN   \n12                   NaN                                        NaN   \n13                   NaN                                        NaN   \n14                   NaN                                        NaN   \n15                   NaN                                        NaN   \n16                   NaN                                        NaN   \n17                   NaN                                        NaN   \n18                   NaN                                        NaN   \n19                   NaN                                        NaN   \n20                   NaN                                        NaN   \n21                   NaN                                        NaN   \n22                   NaN                                        NaN   \n23                   NaN                                        NaN   \n\n                                       上学时间*  \\\n0   Dates of Attendance & Date of Graduation   \n1                     07/18/2022--04/08/2024   \n2                                        NaN   \n3                                        NaN   \n4                                        NaN   \n5                                        NaN   \n6                                        NaN   \n7                                        NaN   \n8                                        NaN   \n9                                        NaN   \n10                                       NaN   \n11                                       NaN   \n12                                       NaN   \n13                                       NaN   \n14                                       NaN   \n15                                       NaN   \n16                                       NaN   \n17                                       NaN   \n18                                       NaN   \n19                                       NaN   \n20                                       NaN   \n21                                       NaN   \n22                                       NaN   \n23                                       NaN   \n\n                                  成绩             学分  \n0   The Grade Point Average(The GPA)  Total Credits  \n1                               3.45             52  \n2                                NaN            NaN  \n3                                NaN            NaN  \n4                                NaN            NaN  \n5                                NaN            NaN  \n6                                NaN            NaN  \n7                                NaN            NaN  \n8                                NaN            NaN  \n9                                NaN            NaN  \n10                               NaN            NaN  \n11                               NaN            NaN  \n12                               NaN            NaN  \n13                               NaN            NaN  \n14                               NaN            NaN  \n15                               NaN            NaN  \n16                               NaN            NaN  \n17                               NaN            NaN  \n18                               NaN            NaN  \n19                               NaN            NaN  \n20                               NaN            NaN  \n21                               NaN            NaN  \n22                               NaN            NaN  \n23                               NaN            NaN  ",
      "text/html": "<div>\n<style scoped>\n    .dataframe tbody tr th:only-of-type {\n        vertical-align: middle;\n    }\n\n    .dataframe tbody tr th {\n        vertical-align: top;\n    }\n\n    .dataframe thead th {\n        text-align: right;\n    }\n</style>\n<table border=\"1\" class=\"dataframe\">\n  <thead>\n    <tr style=\"text-align: right;\">\n      <th></th>\n      <th>Unnamed: 0</th>\n      <th>名字*</th>\n      <th>性别</th>\n      <th>出生日期</th>\n      <th>国籍</th>\n      <th>护照号*</th>\n      <th>学号*</th>\n      <th>专业</th>\n      <th>学位*</th>\n      <th>上学时间*</th>\n      <th>成绩</th>\n      <th>学分</th>\n    </tr>\n  </thead>\n  <tbody>\n    <tr>\n      <th>0</th>\n      <td>中文名</td>\n      <td>Name *</td>\n      <td>Gender</td>\n      <td>Date of Birth</td>\n      <td>Nationality</td>\n      <td>ID/Passport NO *</td>\n      <td>Registration Number</td>\n      <td>Major(s)</td>\n      <td>Degree(s) Awarded</td>\n      <td>Dates of Attendance &amp; Date of Graduation</td>\n      <td>The Grade Point Average(The GPA)</td>\n      <td>Total Credits</td>\n    </tr>\n    <tr>\n      <th>1</th>\n      <td>许瀚文</td>\n      <td>Hanwen Xu</td>\n      <td>Female</td>\n      <td>05-OCT-1998</td>\n      <td>Chinese</td>\n      <td>21040219981005054X</td>\n      <td>197620240011</td>\n      <td>Computer Engineering</td>\n      <td>Master of Science in Computer Engineering</td>\n      <td>07/18/2022--04/08/2024</td>\n      <td>3.45</td>\n      <td>52</td>\n    </tr>\n    <tr>\n      <th>2</th>\n      <td>NaN</td>\n      <td>NaN</td>\n      <td>NaN</td>\n      <td>NaN</td>\n      <td>NaN</td>\n      <td>NaN</td>\n      <td>NaN</td>\n      <td>NaN</td>\n      <td>NaN</td>\n      <td>NaN</td>\n      <td>NaN</td>\n      <td>NaN</td>\n    </tr>\n    <tr>\n      <th>3</th>\n      <td>NaN</td>\n      <td>NaN</td>\n      <td>NaN</td>\n      <td>NaN</td>\n      <td>NaN</td>\n      <td>NaN</td>\n      <td>NaN</td>\n      <td>NaN</td>\n      <td>NaN</td>\n      <td>NaN</td>\n      <td>NaN</td>\n      <td>NaN</td>\n    </tr>\n    <tr>\n      <th>4</th>\n      <td>学年</td>\n      <td>学期</td>\n      <td>课程编号</td>\n      <td>课程名称</td>\n      <td>学分</td>\n      <td>Grade</td>\n      <td>质量分Honor Points</td>\n      <td>NaN</td>\n      <td>NaN</td>\n      <td>NaN</td>\n      <td>NaN</td>\n      <td>NaN</td>\n    </tr>\n    <tr>\n      <th>5</th>\n      <td>1</td>\n      <td>Fall</td>\n      <td>CA 201</td>\n      <td>Computer Architecture</td>\n      <td>3</td>\n      <td>B</td>\n      <td>9</td>\n      <td>NaN</td>\n      <td>NaN</td>\n      <td>NaN</td>\n      <td>NaN</td>\n      <td>NaN</td>\n    </tr>\n    <tr>\n      <th>6</th>\n      <td>1</td>\n      <td>Fall</td>\n      <td>AOS 202</td>\n      <td>Advanced Operating Systems</td>\n      <td>3</td>\n      <td>B</td>\n      <td>9</td>\n      <td>NaN</td>\n      <td>NaN</td>\n      <td>NaN</td>\n      <td>NaN</td>\n      <td>NaN</td>\n    </tr>\n    <tr>\n      <th>7</th>\n      <td>1</td>\n      <td>Fall</td>\n      <td>ACN 202</td>\n      <td>Advanced Computer Networks</td>\n      <td>3</td>\n      <td>A</td>\n      <td>12</td>\n      <td>NaN</td>\n      <td>NaN</td>\n      <td>NaN</td>\n      <td>NaN</td>\n      <td>NaN</td>\n    </tr>\n    <tr>\n      <th>8</th>\n      <td>1</td>\n      <td>Fall</td>\n      <td>DVL 126</td>\n      <td>Digital VLSI Design</td>\n      <td>3</td>\n      <td>B+</td>\n      <td>9.9</td>\n      <td>NaN</td>\n      <td>NaN</td>\n      <td>NaN</td>\n      <td>NaN</td>\n      <td>NaN</td>\n    </tr>\n    <tr>\n      <th>9</th>\n      <td>2</td>\n      <td>Spring</td>\n      <td>ADS 204</td>\n      <td>Advanced Digital Signal Processing</td>\n      <td>3</td>\n      <td>B-</td>\n      <td>8.1</td>\n      <td>NaN</td>\n      <td>NaN</td>\n      <td>NaN</td>\n      <td>NaN</td>\n      <td>NaN</td>\n    </tr>\n    <tr>\n      <th>10</th>\n      <td>2</td>\n      <td>Spring</td>\n      <td>ACE 118</td>\n      <td>Advanced Topics in Computer Engineering</td>\n      <td>3</td>\n      <td>A</td>\n      <td>12</td>\n      <td>NaN</td>\n      <td>NaN</td>\n      <td>NaN</td>\n      <td>NaN</td>\n      <td>NaN</td>\n    </tr>\n    <tr>\n      <th>11</th>\n      <td>2</td>\n      <td>Spring</td>\n      <td>AAD 212</td>\n      <td>Advanced Algorithms and Data Structures</td>\n      <td>3</td>\n      <td>A-</td>\n      <td>11.1</td>\n      <td>NaN</td>\n      <td>NaN</td>\n      <td>NaN</td>\n      <td>NaN</td>\n      <td>NaN</td>\n    </tr>\n    <tr>\n      <th>12</th>\n      <td>2</td>\n      <td>Spring</td>\n      <td>ADB 254</td>\n      <td>Advanced Database Systems</td>\n      <td>3</td>\n      <td>B</td>\n      <td>9</td>\n      <td>NaN</td>\n      <td>NaN</td>\n      <td>NaN</td>\n      <td>NaN</td>\n      <td>NaN</td>\n    </tr>\n    <tr>\n      <th>13</th>\n      <td>2</td>\n      <td>Fall</td>\n      <td>ACA 251</td>\n      <td>Advanced Topics in Computer Architecture</td>\n      <td>3</td>\n      <td>A</td>\n      <td>12</td>\n      <td>NaN</td>\n      <td>NaN</td>\n      <td>NaN</td>\n      <td>NaN</td>\n      <td>NaN</td>\n    </tr>\n    <tr>\n      <th>14</th>\n      <td>2</td>\n      <td>Fall</td>\n      <td>ACN 212</td>\n      <td>Advanced Topics in Computer Networks</td>\n      <td>3</td>\n      <td>B-</td>\n      <td>8.1</td>\n      <td>NaN</td>\n      <td>NaN</td>\n      <td>NaN</td>\n      <td>NaN</td>\n      <td>NaN</td>\n    </tr>\n    <tr>\n      <th>15</th>\n      <td>2</td>\n      <td>Fall</td>\n      <td>AVL 206</td>\n      <td>Advanced Topics in VLSI Design</td>\n      <td>3</td>\n      <td>A-</td>\n      <td>11.1</td>\n      <td>NaN</td>\n      <td>NaN</td>\n      <td>NaN</td>\n      <td>NaN</td>\n      <td>NaN</td>\n    </tr>\n    <tr>\n      <th>16</th>\n      <td>2</td>\n      <td>Fall</td>\n      <td>ACS 105</td>\n      <td>Advanced Computer Security</td>\n      <td>3</td>\n      <td>A</td>\n      <td>12</td>\n      <td>NaN</td>\n      <td>NaN</td>\n      <td>NaN</td>\n      <td>NaN</td>\n      <td>NaN</td>\n    </tr>\n    <tr>\n      <th>17</th>\n      <td>3</td>\n      <td>Spring</td>\n      <td>ACG 301</td>\n      <td>Advanced Computer Graphics</td>\n      <td>3</td>\n      <td>B+</td>\n      <td>9.9</td>\n      <td>NaN</td>\n      <td>NaN</td>\n      <td>NaN</td>\n      <td>NaN</td>\n      <td>NaN</td>\n    </tr>\n    <tr>\n      <th>18</th>\n      <td>3</td>\n      <td>Spring</td>\n      <td>AES 301</td>\n      <td>Advanced Topics in Embedded Systems</td>\n      <td>3</td>\n      <td>B</td>\n      <td>9</td>\n      <td>NaN</td>\n      <td>NaN</td>\n      <td>NaN</td>\n      <td>NaN</td>\n      <td>NaN</td>\n    </tr>\n    <tr>\n      <th>19</th>\n      <td>3</td>\n      <td>Spring</td>\n      <td>AAI 263</td>\n      <td>Advanced Artificial Intelligence</td>\n      <td>3</td>\n      <td>A</td>\n      <td>12</td>\n      <td>NaN</td>\n      <td>NaN</td>\n      <td>NaN</td>\n      <td>NaN</td>\n      <td>NaN</td>\n    </tr>\n    <tr>\n      <th>20</th>\n      <td>3</td>\n      <td>Spring</td>\n      <td>ADS 302</td>\n      <td>Advanced Distributed Systems</td>\n      <td>3</td>\n      <td>B</td>\n      <td>9</td>\n      <td>NaN</td>\n      <td>NaN</td>\n      <td>NaN</td>\n      <td>NaN</td>\n      <td>NaN</td>\n    </tr>\n    <tr>\n      <th>21</th>\n      <td>3</td>\n      <td>Spring</td>\n      <td>DR 310</td>\n      <td>Capstone Project or Thesis</td>\n      <td>4</td>\n      <td>A</td>\n      <td>16</td>\n      <td>NaN</td>\n      <td>NaN</td>\n      <td>NaN</td>\n      <td>NaN</td>\n      <td>NaN</td>\n    </tr>\n    <tr>\n      <th>22</th>\n      <td>NaN</td>\n      <td>NaN</td>\n      <td>NaN</td>\n      <td>总学分</td>\n      <td>52</td>\n      <td>NaN</td>\n      <td>NaN</td>\n      <td>NaN</td>\n      <td>NaN</td>\n      <td>NaN</td>\n      <td>NaN</td>\n      <td>NaN</td>\n    </tr>\n    <tr>\n      <th>23</th>\n      <td>NaN</td>\n      <td>NaN</td>\n      <td>NaN</td>\n      <td>平均绩点</td>\n      <td>3.446154</td>\n      <td>NaN</td>\n      <td>NaN</td>\n      <td>NaN</td>\n      <td>NaN</td>\n      <td>NaN</td>\n      <td>NaN</td>\n      <td>NaN</td>\n    </tr>\n  </tbody>\n</table>\n</div>"
     },
     "execution_count": 16,
     "metadata": {},
     "output_type": "execute_result"
    }
   ],
   "source": [
    "execl = pd.read_excel('/Users/macbookpro/Desktop/Hanwen Xu.xlsx',header=0)\n",
    "execl.head(50)"
   ],
   "metadata": {
    "collapsed": false
   }
  },
  {
   "cell_type": "code",
   "execution_count": 17,
   "outputs": [
    {
     "name": "stdout",
     "output_type": "stream",
     "text": [
      "Unnamed: 0                                          许瀚文\n",
      "名字*                                           Hanwen Xu\n",
      "性别                                               Female\n",
      "出生日期                                        05-OCT-1998\n",
      "国籍                                              Chinese\n",
      "护照号*                                 21040219981005054X\n",
      "学号*                                        197620240011\n",
      "专业                                 Computer Engineering\n",
      "学位*           Master of Science in Computer Engineering\n",
      "上学时间*                            07/18/2022--04/08/2024\n",
      "成绩                                                 3.45\n",
      "学分                                                   52\n",
      "Name: 1, dtype: object\n",
      "   Unnamed: 0     名字*       性别                                      出生日期 国籍  \\\n",
      "5           1    Fall   CA 201                     Computer Architecture  3   \n",
      "6           1    Fall  AOS 202                Advanced Operating Systems  3   \n",
      "7           1    Fall  ACN 202                Advanced Computer Networks  3   \n",
      "8           1    Fall  DVL 126                       Digital VLSI Design  3   \n",
      "9           2  Spring  ADS 204        Advanced Digital Signal Processing  3   \n",
      "10          2  Spring  ACE 118   Advanced Topics in Computer Engineering  3   \n",
      "11          2  Spring  AAD 212   Advanced Algorithms and Data Structures  3   \n",
      "12          2  Spring  ADB 254                 Advanced Database Systems  3   \n",
      "13          2    Fall  ACA 251  Advanced Topics in Computer Architecture  3   \n",
      "14          2    Fall  ACN 212      Advanced Topics in Computer Networks  3   \n",
      "15          2    Fall  AVL 206            Advanced Topics in VLSI Design  3   \n",
      "16          2    Fall  ACS 105                Advanced Computer Security  3   \n",
      "17          3  Spring  ACG 301                Advanced Computer Graphics  3   \n",
      "18          3  Spring  AES 301       Advanced Topics in Embedded Systems  3   \n",
      "19          3  Spring  AAI 263          Advanced Artificial Intelligence  3   \n",
      "20          3  Spring  ADS 302              Advanced Distributed Systems  3   \n",
      "21          3  Spring   DR 310                Capstone Project or Thesis  4   \n",
      "\n",
      "   护照号*   学号*   专业  学位* 上学时间*   成绩   学分  \n",
      "5     B     9  NaN  NaN   NaN  NaN  NaN  \n",
      "6     B     9  NaN  NaN   NaN  NaN  NaN  \n",
      "7     A    12  NaN  NaN   NaN  NaN  NaN  \n",
      "8    B+   9.9  NaN  NaN   NaN  NaN  NaN  \n",
      "9    B-   8.1  NaN  NaN   NaN  NaN  NaN  \n",
      "10    A    12  NaN  NaN   NaN  NaN  NaN  \n",
      "11   A-  11.1  NaN  NaN   NaN  NaN  NaN  \n",
      "12    B     9  NaN  NaN   NaN  NaN  NaN  \n",
      "13    A    12  NaN  NaN   NaN  NaN  NaN  \n",
      "14   B-   8.1  NaN  NaN   NaN  NaN  NaN  \n",
      "15   A-  11.1  NaN  NaN   NaN  NaN  NaN  \n",
      "16    A    12  NaN  NaN   NaN  NaN  NaN  \n",
      "17   B+   9.9  NaN  NaN   NaN  NaN  NaN  \n",
      "18    B     9  NaN  NaN   NaN  NaN  NaN  \n",
      "19    A    12  NaN  NaN   NaN  NaN  NaN  \n",
      "20    B     9  NaN  NaN   NaN  NaN  NaN  \n",
      "21    A    16  NaN  NaN   NaN  NaN  NaN  \n"
     ]
    }
   ],
   "source": [
    "basedata = execl.iloc[1]\n",
    "print(basedata)\n",
    "courseData = execl.iloc[5:-2]\n",
    "print(courseData)\n",
    "def yearEnter(datestr):\n",
    "    strlist = datestr.split('--')\n",
    "    dataStart = strlist[0].split('/')\n",
    "    return dataStart[2]\n",
    "YearEnter = yearEnter(basedata[9])"
   ],
   "metadata": {
    "collapsed": false
   }
  },
  {
   "cell_type": "code",
   "execution_count": 18,
   "outputs": [],
   "source": [
    "listCourse = []\n",
    "Yeardict = {'Academic_Year': '',\n",
    "         'addInputArr': [],\n",
    "         'key': '', 'labelPosition': 'right', 'prop': '', 'statement': 'This is a statement listing courses completed online or by distance study and courses completed by regular classroom attendance',\n",
    "         'value': ''}\n",
    "addinputarrdict = {'key': '', 'labelPosition': 'right', 'prop': '', 'value1': '', 'value2': '', 'value3': '', 'value4': '', 'value5': ''}"
   ],
   "metadata": {
    "collapsed": false
   }
  },
  {
   "cell_type": "code",
   "execution_count": 19,
   "outputs": [
    {
     "name": "stdout",
     "output_type": "stream",
     "text": [
      "[{'Academic_Year': '2022    Fall Semester', 'addInputArr': [{'key': '', 'labelPosition': 'right', 'prop': '', 'value1': 'CA 201', 'value2': 'Computer Architecture', 'value3': '3', 'value4': 'B', 'value5': '9'}, {'key': '', 'labelPosition': 'right', 'prop': '', 'value1': 'AOS 202', 'value2': 'Advanced Operating Systems', 'value3': '3', 'value4': 'B', 'value5': '9'}, {'key': '', 'labelPosition': 'right', 'prop': '', 'value1': 'ACN 202', 'value2': 'Advanced Computer Networks', 'value3': '3', 'value4': 'A', 'value5': '12'}, {'key': '', 'labelPosition': 'right', 'prop': '', 'value1': 'DVL 126', 'value2': 'Digital VLSI Design', 'value3': '3', 'value4': 'B+', 'value5': '9.9'}], 'key': '', 'labelPosition': 'right', 'prop': '', 'statement': 'This is a statement listing courses completed online or by distance study and courses completed by regular classroom attendance', 'value': ''}, {'Academic_Year': '2023    Spring Semester', 'addInputArr': [{'key': '', 'labelPosition': 'right', 'prop': '', 'value1': 'ADS 204', 'value2': 'Advanced Digital Signal Processing', 'value3': '3', 'value4': 'B-', 'value5': '8.1'}, {'key': '', 'labelPosition': 'right', 'prop': '', 'value1': 'ACE 118', 'value2': 'Advanced Topics in Computer Engineering', 'value3': '3', 'value4': 'A', 'value5': '12'}, {'key': '', 'labelPosition': 'right', 'prop': '', 'value1': 'AAD 212', 'value2': 'Advanced Algorithms and Data Structures', 'value3': '3', 'value4': 'A-', 'value5': '11.1'}, {'key': '', 'labelPosition': 'right', 'prop': '', 'value1': 'ADB 254', 'value2': 'Advanced Database Systems', 'value3': '3', 'value4': 'B', 'value5': '9'}], 'key': '', 'labelPosition': 'right', 'prop': '', 'statement': 'This is a statement listing courses completed online or by distance study and courses completed by regular classroom attendance', 'value': ''}, {'Academic_Year': '2023    Fall Semester', 'addInputArr': [{'key': '', 'labelPosition': 'right', 'prop': '', 'value1': 'ACA 251', 'value2': 'Advanced Topics in Computer Architecture', 'value3': '3', 'value4': 'A', 'value5': '12'}, {'key': '', 'labelPosition': 'right', 'prop': '', 'value1': 'ACN 212', 'value2': 'Advanced Topics in Computer Networks', 'value3': '3', 'value4': 'B-', 'value5': '8.1'}, {'key': '', 'labelPosition': 'right', 'prop': '', 'value1': 'AVL 206', 'value2': 'Advanced Topics in VLSI Design', 'value3': '3', 'value4': 'A-', 'value5': '11.1'}, {'key': '', 'labelPosition': 'right', 'prop': '', 'value1': 'ACS 105', 'value2': 'Advanced Computer Security', 'value3': '3', 'value4': 'A', 'value5': '12'}], 'key': '', 'labelPosition': 'right', 'prop': '', 'statement': 'This is a statement listing courses completed online or by distance study and courses completed by regular classroom attendance', 'value': ''}, {'Academic_Year': '2024    Spring Semester', 'addInputArr': [{'key': '', 'labelPosition': 'right', 'prop': '', 'value1': 'ACG 301', 'value2': 'Advanced Computer Graphics', 'value3': '3', 'value4': 'B+', 'value5': '9.9'}, {'key': '', 'labelPosition': 'right', 'prop': '', 'value1': 'AES 301', 'value2': 'Advanced Topics in Embedded Systems', 'value3': '3', 'value4': 'B', 'value5': '9'}, {'key': '', 'labelPosition': 'right', 'prop': '', 'value1': 'AAI 263', 'value2': 'Advanced Artificial Intelligence', 'value3': '3', 'value4': 'A', 'value5': '12'}, {'key': '', 'labelPosition': 'right', 'prop': '', 'value1': 'ADS 302', 'value2': 'Advanced Distributed Systems', 'value3': '3', 'value4': 'B', 'value5': '9'}, {'key': '', 'labelPosition': 'right', 'prop': '', 'value1': 'DR 310', 'value2': 'Capstone Project or Thesis', 'value3': '4', 'value4': 'A', 'value5': '16'}], 'key': '', 'labelPosition': 'right', 'prop': '', 'statement': 'This is a statement listing courses completed online or by distance study and courses completed by regular classroom attendance', 'value': ''}]\n"
     ]
    }
   ],
   "source": [
    "Yearlist = []\n",
    "for index,row in courseData.iterrows():\n",
    "    addinputarrdict = {'key': '', 'labelPosition': 'right', 'prop': '', 'value1': str(row[2]), 'value2': str(row[3]), 'value3': str(row[4]), 'value4': str(row[5]), 'value5': str(row[6])}\n",
    "    Yearacademic = str(int(row[0])-1+int(YearEnter)) + str('    ') + row[1] + str(' ') + 'Semester'\n",
    "    if len(Yearlist) == 0 or Yearlist[-1] != Yearacademic:\n",
    "        if len(Yeardict.get('addInputArr')) > 0 :\n",
    "            listCourse.append(Yeardict)\n",
    "            Yearlist.append(Yearacademic)\n",
    "        Yeardict = {'Academic_Year': '',\n",
    "         'addInputArr': [],\n",
    "         'key': '', 'labelPosition': 'right', 'prop': '', 'statement': 'This is a statement listing courses completed online or by distance study and courses completed by regular classroom attendance',\n",
    "         'value': ''}\n",
    "        Yearlist.append(Yearacademic)\n",
    "        Yeardict['Academic_Year'] = Yearacademic\n",
    "        Yeardict.get('addInputArr').append(addinputarrdict)\n",
    "    elif Yearlist[-1] == Yearacademic:\n",
    "        Yeardict.get('addInputArr').append(addinputarrdict)\n",
    "        if (index-5+1)==len(courseData):\n",
    "            listCourse.append(Yeardict)\n",
    "            Yearlist.append(Yearacademic)\n",
    "    # print(Yeardict)\n",
    "print(listCourse)"
   ],
   "metadata": {
    "collapsed": false
   }
  },
  {
   "cell_type": "code",
   "execution_count": 20,
   "outputs": [],
   "source": [
    "def dateconvert1(datestr):\n",
    "    dateDict = {\n",
    "        'JAN':'01',\n",
    "        'FEB':'02',\n",
    "        'MAR':'03',\n",
    "        'APR':'04',\n",
    "        'MAY':'05',\n",
    "        'JUN':'06',\n",
    "        'JUL':'07',\n",
    "        'AUG':'08',\n",
    "        'SEP':'09',\n",
    "        'OCT':'10',\n",
    "        'NOV':'11',\n",
    "        'DEC':'12'\n",
    "    }\n",
    "    strlist = datestr.split('-')\n",
    "    return strlist[2]+'-'+dateDict.get(strlist[1])+'-'+strlist[0]"
   ],
   "metadata": {
    "collapsed": false
   }
  },
  {
   "cell_type": "code",
   "execution_count": 21,
   "outputs": [
    {
     "data": {
      "text/plain": "'05-OCT-1998'"
     },
     "execution_count": 21,
     "metadata": {},
     "output_type": "execute_result"
    }
   ],
   "source": [
    "basedata[3]"
   ],
   "metadata": {
    "collapsed": false
   }
  },
  {
   "cell_type": "code",
   "execution_count": 22,
   "outputs": [],
   "source": [
    "def dateconvert2(datestr):\n",
    "    strlist = datestr.split('--')\n",
    "    dataStart = strlist[0].split('/')\n",
    "    dataEnd = strlist[1].split('/')\n",
    "    dataStart = dataStart[2] + '-' + dataStart[0] + '-' + dataStart[1]\n",
    "    dataEnd = dataEnd[2] + '-' + dataEnd[0] + '-' + dataEnd[1]\n",
    "    return dataStart,dataEnd"
   ],
   "metadata": {
    "collapsed": false
   }
  },
  {
   "cell_type": "code",
   "execution_count": 23,
   "outputs": [
    {
     "data": {
      "text/plain": "('2022-07-18', '2024-04-08')"
     },
     "execution_count": 23,
     "metadata": {},
     "output_type": "execute_result"
    }
   ],
   "source": [
    "dateStart,dateEnd = dateconvert2(basedata[9])\n",
    "dateStart,dateEnd"
   ],
   "metadata": {
    "collapsed": false
   }
  },
  {
   "cell_type": "code",
   "execution_count": 24,
   "outputs": [],
   "source": [
    "imgStr = 'data:image/webp;base64,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'"
   ],
   "metadata": {
    "collapsed": false
   }
  },
  {
   "cell_type": "code",
   "execution_count": 25,
   "outputs": [],
   "source": [
    "dict = {'name': basedata[1], 'passport': str(basedata[5]), 'gender': basedata[2], 'nationality': basedata[4], 'DateOfBirth': dateconvert1(basedata[3]),\n",
    "        'Registration_Number': str(basedata[6]), 'Degree_awarded': basedata[8], 'Major': basedata[7], 'GpA': str(basedata[10]),\n",
    "        'DateOfAttendence': dateStart, 'DateOfGraduation': dateEnd,\n",
    "        'img': imgStr,\n",
    "        'course': listCourse,\n",
    "        'totalCre': str(basedata[11])}\n"
   ],
   "metadata": {
    "collapsed": false
   }
  },
  {
   "cell_type": "code",
   "execution_count": 26,
   "outputs": [
    {
     "data": {
      "text/plain": "{'name': 'Hanwen Xu',\n 'passport': '21040219981005054X',\n 'gender': 'Female',\n 'nationality': 'Chinese',\n 'DateOfBirth': '1998-10-05',\n 'Registration_Number': '197620240011',\n 'Degree_awarded': 'Master of Science in Computer Engineering',\n 'Major': 'Computer Engineering',\n 'GpA': '3.45',\n 'DateOfAttendence': '2022-07-18',\n 'DateOfGraduation': '2024-04-08',\n 'img': 'data:image/webp;base64,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',\n 'course': [{'Academic_Year': '2022    Fall Semester',\n   'addInputArr': [{'key': '',\n     'labelPosition': 'right',\n     'prop': '',\n     'value1': 'CA 201',\n     'value2': 'Computer Architecture',\n     'value3': '3',\n     'value4': 'B',\n     'value5': '9'},\n    {'key': '',\n     'labelPosition': 'right',\n     'prop': '',\n     'value1': 'AOS 202',\n     'value2': 'Advanced Operating Systems',\n     'value3': '3',\n     'value4': 'B',\n     'value5': '9'},\n    {'key': '',\n     'labelPosition': 'right',\n     'prop': '',\n     'value1': 'ACN 202',\n     'value2': 'Advanced Computer Networks',\n     'value3': '3',\n     'value4': 'A',\n     'value5': '12'},\n    {'key': '',\n     'labelPosition': 'right',\n     'prop': '',\n     'value1': 'DVL 126',\n     'value2': 'Digital VLSI Design',\n     'value3': '3',\n     'value4': 'B+',\n     'value5': '9.9'}],\n   'key': '',\n   'labelPosition': 'right',\n   'prop': '',\n   'statement': 'This is a statement listing courses completed online or by distance study and courses completed by regular classroom attendance',\n   'value': ''},\n  {'Academic_Year': '2023    Spring Semester',\n   'addInputArr': [{'key': '',\n     'labelPosition': 'right',\n     'prop': '',\n     'value1': 'ADS 204',\n     'value2': 'Advanced Digital Signal Processing',\n     'value3': '3',\n     'value4': 'B-',\n     'value5': '8.1'},\n    {'key': '',\n     'labelPosition': 'right',\n     'prop': '',\n     'value1': 'ACE 118',\n     'value2': 'Advanced Topics in Computer Engineering',\n     'value3': '3',\n     'value4': 'A',\n     'value5': '12'},\n    {'key': '',\n     'labelPosition': 'right',\n     'prop': '',\n     'value1': 'AAD 212',\n     'value2': 'Advanced Algorithms and Data Structures',\n     'value3': '3',\n     'value4': 'A-',\n     'value5': '11.1'},\n    {'key': '',\n     'labelPosition': 'right',\n     'prop': '',\n     'value1': 'ADB 254',\n     'value2': 'Advanced Database Systems',\n     'value3': '3',\n     'value4': 'B',\n     'value5': '9'}],\n   'key': '',\n   'labelPosition': 'right',\n   'prop': '',\n   'statement': 'This is a statement listing courses completed online or by distance study and courses completed by regular classroom attendance',\n   'value': ''},\n  {'Academic_Year': '2023    Fall Semester',\n   'addInputArr': [{'key': '',\n     'labelPosition': 'right',\n     'prop': '',\n     'value1': 'ACA 251',\n     'value2': 'Advanced Topics in Computer Architecture',\n     'value3': '3',\n     'value4': 'A',\n     'value5': '12'},\n    {'key': '',\n     'labelPosition': 'right',\n     'prop': '',\n     'value1': 'ACN 212',\n     'value2': 'Advanced Topics in Computer Networks',\n     'value3': '3',\n     'value4': 'B-',\n     'value5': '8.1'},\n    {'key': '',\n     'labelPosition': 'right',\n     'prop': '',\n     'value1': 'AVL 206',\n     'value2': 'Advanced Topics in VLSI Design',\n     'value3': '3',\n     'value4': 'A-',\n     'value5': '11.1'},\n    {'key': '',\n     'labelPosition': 'right',\n     'prop': '',\n     'value1': 'ACS 105',\n     'value2': 'Advanced Computer Security',\n     'value3': '3',\n     'value4': 'A',\n     'value5': '12'}],\n   'key': '',\n   'labelPosition': 'right',\n   'prop': '',\n   'statement': 'This is a statement listing courses completed online or by distance study and courses completed by regular classroom attendance',\n   'value': ''},\n  {'Academic_Year': '2024    Spring Semester',\n   'addInputArr': [{'key': '',\n     'labelPosition': 'right',\n     'prop': '',\n     'value1': 'ACG 301',\n     'value2': 'Advanced Computer Graphics',\n     'value3': '3',\n     'value4': 'B+',\n     'value5': '9.9'},\n    {'key': '',\n     'labelPosition': 'right',\n     'prop': '',\n     'value1': 'AES 301',\n     'value2': 'Advanced Topics in Embedded Systems',\n     'value3': '3',\n     'value4': 'B',\n     'value5': '9'},\n    {'key': '',\n     'labelPosition': 'right',\n     'prop': '',\n     'value1': 'AAI 263',\n     'value2': 'Advanced Artificial Intelligence',\n     'value3': '3',\n     'value4': 'A',\n     'value5': '12'},\n    {'key': '',\n     'labelPosition': 'right',\n     'prop': '',\n     'value1': 'ADS 302',\n     'value2': 'Advanced Distributed Systems',\n     'value3': '3',\n     'value4': 'B',\n     'value5': '9'},\n    {'key': '',\n     'labelPosition': 'right',\n     'prop': '',\n     'value1': 'DR 310',\n     'value2': 'Capstone Project or Thesis',\n     'value3': '4',\n     'value4': 'A',\n     'value5': '16'}],\n   'key': '',\n   'labelPosition': 'right',\n   'prop': '',\n   'statement': 'This is a statement listing courses completed online or by distance study and courses completed by regular classroom attendance',\n   'value': ''}],\n 'totalCre': '52'}"
     },
     "execution_count": 26,
     "metadata": {},
     "output_type": "execute_result"
    }
   ],
   "source": [
    "dict"
   ],
   "metadata": {
    "collapsed": false
   }
  },
  {
   "cell_type": "code",
   "execution_count": null,
   "outputs": [],
   "source": [],
   "metadata": {
    "collapsed": false
   }
  }
 ],
 "metadata": {
  "kernelspec": {
   "display_name": "Python 3",
   "language": "python",
   "name": "python3"
  },
  "language_info": {
   "codemirror_mode": {
    "name": "ipython",
    "version": 2
   },
   "file_extension": ".py",
   "mimetype": "text/x-python",
   "name": "python",
   "nbconvert_exporter": "python",
   "pygments_lexer": "ipython2",
   "version": "2.7.6"
  }
 },
 "nbformat": 4,
 "nbformat_minor": 0
}
